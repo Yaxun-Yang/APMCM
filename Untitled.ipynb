{
 "cells": [
  {
   "cell_type": "code",
   "execution_count": 1,
   "metadata": {},
   "outputs": [
    {
     "data": {
      "text/plain": [
       "<Figure size 640x480 with 1 Axes>"
      ]
     },
     "metadata": {},
     "output_type": "display_data"
    }
   ],
   "source": [
    "import matplotlib.pyplot as plt\n",
    "import pandas as pd\n",
    "from scipy import interpolate\n",
    "import numpy as np\n",
    "\n",
    "\n",
    "def csv_read(file_path):\n",
    "    csv_data = pd.read_csv(file_path, header=0)\n",
    "\n",
    "    return csv_data\n",
    "\n",
    "\n",
    "\n",
    "    # 2*n to n*2\n",
    "data = csv_read('Attachment 1/graph1.csv').to_numpy()\n",
    "data2 = data.transpose()\n",
    "\n",
    "    # 求y轴上的极值\n",
    "min_y = np.argmin(data2[1])\n",
    "\n",
    "    # 以最小值为起点重排序数据集\n",
    "new_data = np.vstack((data[min_y:], data[:min_y]))\n",
    "\n",
    "    # 记录极值点\n",
    "ex_value = []\n",
    "    # 记录从顺时针方向看是否是上升趋势\n",
    "up_tend = True\n",
    "\n",
    "for i in range(len(new_data) - 1):\n",
    "    if not up_tend and new_data[i + 1][1] > new_data[i][1]:\n",
    "        ex_value.append(i)\n",
    "        up_tend = not up_tend\n",
    "    elif up_tend and new_data[i + 1][1] < new_data[i][1]:\n",
    "        ex_value.append(i)\n",
    "        up_tend = not up_tend\n",
    "ex_value.append(len(new_data) - 1)\n",
    "\n",
    "    # 为方便接下来的计算重新划分数据集, 将最小值点下一个极值点作为全部数据的起点\n",
    "temp = ex_value[0]\n",
    "ex_value[:] = [x - temp for x in ex_value]\n",
    "new_data = np.vstack((new_data[temp:], new_data[:temp]))\n",
    "    # 每一段分别求function\n",
    "function = []\n",
    "for i in range(len(ex_value)-1):\n",
    "    temp_data = np.transpose(new_data[ex_value[i]:ex_value[i+1]])\n",
    "    function.append(interpolate.interp1d(temp_data[1], temp_data[0], kind=\"cubic\"))\n",
    "temp_data = np.transpose(new_data[ex_value[-1]:])\n",
    "function.append(interpolate.interp1d(temp_data[1], temp_data[0], kind=\"cubic\"))\n",
    "\n",
    "#     # 做区域的划分工作\n",
    "#     record = []\n",
    "#     # 记录每组相对应的线段\n",
    "#     func_record = []\n",
    "#     # 记录每组y值的取值范围\n",
    "#     y_record = []\n",
    "#     now_data = new_data[ex_value[0]]\n",
    "#     up_tend = False\n",
    "#     record_tend = False\n",
    "#     flag = False\n",
    "#     for i in range(len(ex_value) - 2):\n",
    "#         if flag:\n",
    "#             flag = False\n",
    "#             continue\n",
    "#         if not up_tend:\n",
    "#             temp = min(new_data[ex_value[i+2]][1], now_data[1])\n",
    "#         else:\n",
    "#             temp = max(new_data[ex_value[i+2]][1], now_data[1])\n",
    "#         y_record.append([new_data[ex_value[i+1]][1], temp])\n",
    "#         func_record.append([i, i+1])\n",
    "#         if temp == now_data[1] and temp != new_data[ex_value[i+1]][1]:\n",
    "#             now_data[0] = function[i + 1](now_data[1])\n",
    "#             up_tend = not up_tend\n",
    "#             while up_tend is not record_tend and record:\n",
    "#                 func_record.append([record[-1][0], i+1])\n",
    "#                 if up_tend:\n",
    "#                     now_y = min(new_data[ex_value[i+2]][1], record[-1][1])\n",
    "#                 else:\n",
    "#                     now_y = max(new_data[ex_value[i+2]][1], record[-1][1])\n",
    "#                 print(now_y, new_data[ex_value[i+2]][1], record[-1][1])\n",
    "#                 y_record.append([now_data[1], now_y])\n",
    "#                 now_data = [function[i + 1](now_y), now_y]\n",
    "#                 if new_data[ex_value[i+2]][1] == now_y:\n",
    "#                     up_tend = not up_tend\n",
    "#                     flag = True\n",
    "#                     break\n",
    "#                 else:\n",
    "#                     record.pop(-1)\n",
    "\n",
    "#         elif temp == new_data[ex_value[i+2]][1] and temp != now_data[1]:\n",
    "#             record.append([i, now_data[1]])\n",
    "#             now_data = new_data[ex_value[i+2]]\n",
    "#             record_tend = up_tend\n",
    "#             flag = True\n",
    "#         else:\n",
    "#             now_data = new_data[ex_value[i+2]]\n",
    "#             flag = True\n",
    "#     return y_record, func_record, function\n",
    "\n",
    "\n",
    "\n",
    "\n",
    "\n",
    "\n",
    "\n",
    "\n",
    "\n"
   ]
  },
  {
   "cell_type": "code",
   "execution_count": 2,
   "metadata": {},
   "outputs": [],
   "source": [
    "def draw(y_record, func_record):\n",
    "\n",
    "    for i in range(len(y_record)):\n",
    "        temp_data = np.arange(y_record[i][0], y_record[i][1], 0.001)\n",
    "        print(func_record[i])\n",
    "        plt.plot(func_record[i](temp_data), temp_data)\n",
    "        plt.plot(func_record[i](temp_data), temp_data)\n",
    "    plt.show()\n",
    "    \n",
    "# draw(y_record, func_record)\n",
    "#print(y_record, func_record)"
   ]
  },
  {
   "cell_type": "code",
   "execution_count": 3,
   "metadata": {},
   "outputs": [
    {
     "data": {
      "image/png": "[encoded data removed]",
      "text/plain": [
       "<Figure size 432x288 with 1 Axes>"
      ]
     },
     "metadata": {
      "needs_background": "light"
     },
     "output_type": "display_data"
    }
   ],
   "source": [
    "plt.scatter(new_data.transpose()[0], new_data.transpose()[1], s=0.1)\n",
    "plt.scatter(np.transpose(new_data[ex_value])[0], np.transpose(new_data[ex_value])[1])\n",
    "plt.show()"
   ]
  }
 ],
 "metadata": {
  "kernelspec": {
   "display_name": "Python 3",
   "language": "python",
   "name": "python3"
  },
  "language_info": {
   "codemirror_mode": {
    "name": "ipython",
    "version": 3
   },
   "file_extension": ".py",
   "mimetype": "text/x-python",
   "name": "python",
   "nbconvert_exporter": "python",
   "pygments_lexer": "ipython3",
   "version": "3.7.2"
  }
 },
 "nbformat": 4,
 "nbformat_minor": 2
}
